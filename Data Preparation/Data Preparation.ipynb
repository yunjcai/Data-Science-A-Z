{
 "cells": [
  {
   "cell_type": "markdown",
   "metadata": {},
   "source": [
    "# Data Preparation"
   ]
  },
  {
   "cell_type": "markdown",
   "metadata": {},
   "source": [
    "## Tools for Data Science\n",
    "<img src='https://github.com/yunjcai/Data-Science-A-Z/blob/master/Data%20Preparation/tds1.JPG?raw=true' width='500'>\n",
    "\n",
    "* **ETL(Extract Transform Load):** Use Microsoft Visual Studio (shell), which is only the business intelligence tools in Visual Studio.\n",
    "    * SSDT-BI(SQL Server Data Tools - Business Intelligence): Building SSIS/SSAS/SSRS solutions\n",
    "        * SSIS(SQL Server Integration Service): <font color='purple'>Use Microsoft Visual Studio Shell to Run SSDT-BI, then need SSIS part for ETL</font>\n",
    "        * SSAS(SQL Server Analysis Service): Analyze. But we use Python or R\n",
    "        * SSRS(SQL Server Reporting Service): Visualize. But we use Tableau\n",
    "* **Database:** <font color='dark orange'>Microsoft SQL Server</font>\n",
    "* **Analyze:** <font color='blue'>Python / R</font>\n",
    "* **Visualize:** <font color='green'>Tableau</font>"
   ]
  },
  {
   "cell_type": "markdown",
   "metadata": {},
   "source": [
    "## Suggested Data Science Project Folder Structure\n",
    "<img src='https://github.com/yunjcai/Data-Science-A-Z/blob/master/Data%20Preparation/tds2.JPG?raw=true' width='500'>\n",
    "\n",
    "* **MMDDYYYY Project Name:** Use \"Date\" + \"Project Name\" for the Data Science Project\n",
    "    * **Original Data:** Store all the raw data extracted from other systems, and no modification.\n",
    "    * **Prepared Data:** Any modification we made to the raw data (cleaning the data).\n",
    "    * **Uploaded Data:** Temporary Stop. Need subfolder with just date(MMDDYYYY). Once the data is ready to upload, then put in these subfolders. \n",
    "    * **Analysis:** Any codes, scripts been created during the anaylsis.\n",
    "    * **Insights:** Any preliminary(初步准备) results.\n",
    "    * **Final:** Store the draft and final reports."
   ]
  },
  {
   "cell_type": "code",
   "execution_count": null,
   "metadata": {},
   "outputs": [],
   "source": []
  }
 ],
 "metadata": {
  "kernelspec": {
   "display_name": "Python 3",
   "language": "python",
   "name": "python3"
  },
  "language_info": {
   "codemirror_mode": {
    "name": "ipython",
    "version": 3
   },
   "file_extension": ".py",
   "mimetype": "text/x-python",
   "name": "python",
   "nbconvert_exporter": "python",
   "pygments_lexer": "ipython3",
   "version": "3.7.3"
  },
  "toc": {
   "base_numbering": 1,
   "nav_menu": {},
   "number_sections": false,
   "sideBar": true,
   "skip_h1_title": false,
   "title_cell": "Table of Contents",
   "title_sidebar": "Contents",
   "toc_cell": false,
   "toc_position": {},
   "toc_section_display": true,
   "toc_window_display": true
  },
  "varInspector": {
   "cols": {
    "lenName": 16,
    "lenType": 16,
    "lenVar": 40
   },
   "kernels_config": {
    "python": {
     "delete_cmd_postfix": "",
     "delete_cmd_prefix": "del ",
     "library": "var_list.py",
     "varRefreshCmd": "print(var_dic_list())"
    },
    "r": {
     "delete_cmd_postfix": ") ",
     "delete_cmd_prefix": "rm(",
     "library": "var_list.r",
     "varRefreshCmd": "cat(var_dic_list()) "
    }
   },
   "types_to_exclude": [
    "module",
    "function",
    "builtin_function_or_method",
    "instance",
    "_Feature"
   ],
   "window_display": false
  }
 },
 "nbformat": 4,
 "nbformat_minor": 2
}
