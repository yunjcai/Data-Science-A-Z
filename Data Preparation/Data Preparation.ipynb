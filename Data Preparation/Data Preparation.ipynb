{
 "cells": [
  {
   "cell_type": "markdown",
   "metadata": {},
   "source": [
    "# Data Preparation"
   ]
  },
  {
   "cell_type": "markdown",
   "metadata": {},
   "source": [
    "## Tools for Data Science\n",
    "<img src='https://github.com/yunjcai/Data-Science-A-Z/blob/master/Data%20Preparation/tds1.JPG?raw=true' width='500'>\n",
    "\n",
    "* **ETL(Extract Transform Load):** Use Microsoft Visual Studio (shell), which is only the business intelligence tools in Visual Studio.\n",
    "    * SSDT-BI(SQL Server Data Tools - Business Intelligence): Building SSIS/SSAS/SSRS solutions\n",
    "        * SSIS(SQL Server Integration Service): <font color='purple'>Use Microsoft Visual Studio Shell to Run SSDT-BI, then need SSIS part for ETL</font>\n",
    "        * SSAS(SQL Server Analysis Service): Analyze. But we use Python or R\n",
    "        * SSRS(SQL Server Reporting Service): Visualize. But we use Tableau\n",
    "* **Database:** <font color='dark orange'>Microsoft SQL Server</font>\n",
    "* **Analyze:** <font color='blue'>Python / R</font>\n",
    "* **Visualize:** <font color='green'>Tableau</font>"
   ]
  },
  {
   "cell_type": "markdown",
   "metadata": {},
   "source": [
    "## Suggested Data Science Project Folder Structure\n",
    "<img src='https://github.com/yunjcai/Data-Science-A-Z/blob/master/Data%20Preparation/tds2.JPG?raw=true' width='500'>\n",
    "\n",
    "* **MMDDYYYY Project Name:** Use \"Date\" + \"Project Name\" for the Data Science Project\n",
    "    * **Original Data:** Store all the raw data extracted from other systems, and no modification.\n",
    "    * **Prepared Data:** Any modification we made to the raw data (cleaning the data).\n",
    "    * **Uploaded Data:** Temporary Stop. Need subfolder with just date(MMDDYYYY). Once the data is ready to upload, then put in these subfolders. \n",
    "    * **Analysis:** Any codes, scripts been created during the anaylsis.\n",
    "    * **Insights:** Any preliminary(初步准备) results.\n",
    "    * **Final:** Store the draft and final reports."
   ]
  },
  {
   "cell_type": "markdown",
   "metadata": {},
   "source": [
    "## Data Wrangling Before the Load\n",
    "<font color='red'>Do NOT open and save data by EXCEL directly.</font> It will mess up the original data format (ie. Date and long int).\n",
    "##### Deal with Large CSV\n",
    "**STEP 1:** Rename the extension to be <font color='blue'>\".txt\"</font><br>\n",
    "**STEP 2:** In the same directory, Go to \"Tools\" $\\rightarrow$ \"Folder options...\" $\\rightarrow$ \"View\" Tab $\\rightarrow$ Uncheck box 'Hide extensions for known file type'\n",
    "<img src='https://github.com/yunjcai/Data-Science-A-Z/blob/master/Data%20Preparation/dwb1.JPG?raw=true' width='300'><br>\n",
    "**STEP 3:** Use normal \"File\" $\\rightarrow$ \"Open\" to open \".txt\" data in EXCEL. Use \"Text Import Wizard\" to force EXCEL open the file correctly.<br>\n",
    "**STEP 4.1:** Make sure 'Delimited' has been selected\n",
    "<img src='https://github.com/yunjcai/Data-Science-A-Z/blob/master/Data%20Preparation/dwb2.JPG?raw=true' width='400'><br>\n",
    "**STEP 4.2:** Change 'Delimiter': 'Comma'(only) and 'Text qualifier': ' \" ', Check all the imported columns are correct.\n",
    "<img src='https://github.com/yunjcai/Data-Science-A-Z/blob/master/Data%20Preparation/dwbl3.JPG?raw=true' width='400'><br>\n",
    "**STEP 4.3:** Select from the 1st column to the last column. Then check 'Text' in the 'Column data format' section.\n",
    "<img src='https://github.com/yunjcai/Data-Science-A-Z/blob/master/Data%20Preparation/dwbl4.JPG?raw=true' width='400'><br>\n",
    "**STEP 5:** In general, check and fix up the \"Date\" in the data (convert txt to date)\n",
    "* Select whole \"Date\" column, then select \"Data\" $\\rightarrow$ \"Text to Columns\"\n",
    "<img src='https://github.com/yunjcai/Data-Science-A-Z/blob/master/Data%20Preparation/dwbl5.JPG?raw=true' width='400'><br>\n",
    "* Check 'Delimited', Uncheck any 'Delimiters' since only dealing with 1 column, Select 'Date' in 'Column data format' section to be \"MDY\" (Month, Day, Year)<br>\n",
    "<img src='https://github.com/yunjcai/Data-Science-A-Z/blob/master/Data%20Preparation/dwbl6.JPG?raw=true' width='400'>\n",
    "<img src='https://github.com/yunjcai/Data-Science-A-Z/blob/master/Data%20Preparation/dwbl7.JPG?raw=true' width='400'>\n",
    "<img src='https://github.com/yunjcai/Data-Science-A-Z/blob/master/Data%20Preparation/dwbl8.JPG?raw=true' width='400'><br>\n",
    "* Now we can change Date type by using EXCEL \"Format Cells...\" (we will use yyyy-mm-dd in the example)<br>\n",
    "<img src='https://github.com/yunjcai/Data-Science-A-Z/blob/master/Data%20Preparation/dwbl9.JPG?raw=true' width='400'><br>\n",
    "* Repeat the above steps for every column has \"Date\".<br>\n",
    "\n",
    "**STEP 6:** Same as STEP 5 to fix up the \"Dollar Amounts\" (convert txt to number)\n",
    "* Select whole \"Dollar\" column, then select \"Data\" $\\rightarrow$ \"Text to Columns\"\n",
    "<img src='https://github.com/yunjcai/Data-Science-A-Z/blob/master/Data%20Preparation/dwbl5.JPG?raw=true' width='400'><br>\n",
    "* Check 'Delimited', Uncheck any 'Delimiters' since only dealing with 1 column, Select 'General' in 'Column data format' section<br>\n",
    "<img src='https://github.com/yunjcai/Data-Science-A-Z/blob/master/Data%20Preparation/dwbl6.JPG?raw=true' width='400'>\n",
    "<img src='https://github.com/yunjcai/Data-Science-A-Z/blob/master/Data%20Preparation/dwbl7.JPG?raw=true' width='400'>\n",
    "<img src='https://github.com/yunjcai/Data-Science-A-Z/blob/master/Data%20Preparation/dwbl10.JPG?raw=true' width='400'><br>\n",
    "* Now we can change Date type by using EXCEL \"Format Cells...\". Choose 'Number', 'Decimal places', no 'Use 1000 Separtor()', 'Negative numbers'<br>\n",
    "<img src='https://github.com/yunjcai/Data-Science-A-Z/blob/master/Data%20Preparation/dwbl11.JPG?raw=true' width='400'><br>\n",
    "* Repeat the above steps for every column has \"Dollar\".<br>\n",
    "\n",
    "**STEP 7:** Fix the column which contain more than 256 characters\n",
    "* Select whole column, right click \"Format Cells...\" $\\rightarrow$ Select 'General' in \"Category\" section\n",
    "<img src='https://github.com/yunjcai/Data-Science-A-Z/blob/master/Data%20Preparation/dwbl12.JPG?raw=true' width='400'><br>\n",
    "\n",
    "**STEP 8:** Now save data as \".csv\" format\n",
    "<img src='https://github.com/yunjcai/Data-Science-A-Z/blob/master/Data%20Preparation/dwbl13.JPG?raw=true' width='400'><br>"
   ]
  },
  {
   "cell_type": "markdown",
   "metadata": {},
   "source": [
    "## Use SSIS to Upload Data\n",
    "How to upload a raw file where everything is in text into SQL<br>\n",
    "\n",
    "**STEP 1:** Open Microsoft Visual Studio $\\rightarrow$ \"New Project\" $\\rightarrow$ \"Business Intelligence\" $\\rightarrow$ \"Integration Services Project\" $\\rightarrow$ Enter \"Name\" and \"Solution Name\"<br>\n",
    "<img src='https://github.com/yunjcai/Data-Science-A-Z/blob/master/Data%20Preparation/UDS1.JPG?raw=true' width='400'><br>\n",
    "**STEP 2:** In the \"Control Flow\" section, drag 'Data Flow Task' from \"SSIS Toolbox\"/\"Favorites\". Then give it a name<br>\n",
    "<img src='https://github.com/yunjcai/Data-Science-A-Z/blob/master/Data%20Preparation/UDS2.JPG?raw=true' width='400'><br>\n",
    "**STEP 3:** Double click dragged \"Data Flow Task\" block to open \"Data Flow\" section. Drag \"Flat File Source\" from \"Other Sources\" and \"OLE DB Destination\" from \"Other Destinations\". Then connect those blocks.<br>\n",
    "<img src='https://github.com/yunjcai/Data-Science-A-Z/blob/master/Data%20Preparation/UDS3.JPG?raw=true' width='400'><br>\n",
    "**STEP 4.1:** Double click \"Flat File Source\" to set up.\n",
    "<img src='https://github.com/yunjcai/Data-Science-A-Z/blob/master/Data%20Preparation/UDS4.JPG?raw=true' width='400'><br>\n",
    "**STEP 4.2:** Use \"Browse...\" to select the data, and rename the 'Connection manager name:'<br>\n",
    "**STEP 4.3:** <font color='red'>**Go to the \"Columns\" section on the left side to check the table information (ALL the time). To find which column do errors start</font>**\n",
    "<img src='https://github.com/yunjcai/Data-Science-A-Z/blob/master/Data%20Preparation/UDS5.JPG?raw=true' width='400'><br>\n",
    "**STEP 4.4:** Select \"Advanced\" $\\rightarrow$ Select all the columns $\\rightarrow$ 设置 'OutputColumnWidth' 为1000或2000 (For long comment cell)\n",
    "<img src='https://github.com/yunjcai/Data-Science-A-Z/blob/master/Data%20Preparation/UDS9.JPG?raw=true' width='400'><br>\n",
    "**STEP 4.5:** <font color='blue'>**用 Automating Error Handling in SSIS 来分流合格/不合格数据 (见 \"Automating Error Handling in SSIS\" 章节)**</font><br>\n",
    "**STEP 5:** <font color='red'>**Open both prepared .csv and original .csv file on the same view site in Notepad++. Compare both files to find where does error start and what causes it incorrect.</font>**(注：EXCEL会自动添加双引号\"来弥补缺少的引号\"，会造成问题)\n",
    "* Right click one of the data file $\\rightarrow$ \"Move to Other View\" (To rotate the views to be either side-by-side or top-and-bottom simply right-click the divider line)\n",
    "<img src='https://github.com/yunjcai/Data-Science-A-Z/blob/master/Data%20Preparation/UDS7.JPG?raw=true' width='200'><br>\n",
    "* Synchronize the scrolling: \"View\" $\\rightarrow$ \"Synchronize Vertical Scrolling\"\n",
    "<img src='https://github.com/yunjcai/Data-Science-A-Z/blob/master/Data%20Preparation/UDS8.JPG?raw=true' width='200'><br>\n",
    "\n",
    "**STEP 6:** 见\"常见问题\"章节。如果 Data 结构应 EXCEL 自动排版导致问题的话，Modify/fix the prepared data in Notepad++。如果是信息缺失，则将信息缺失行消息反馈给相应部门，让他们处理。<br>\n",
    "**STEP 7:** Double Click \"OLE DB Destination\" to CREATE TABLE in SQL server. Select the Database, then create new table with columns<br>\n",
    "<img src='https://github.com/yunjcai/Data-Science-A-Z/blob/master/Data%20Preparation/UDS13.JPG?raw=true' width='400'><br>\n",
    "**STEP 8:** Rename the table name, and add one column (RowNumber) with identity(1,1) manually (index and improve data search speed)\n",
    "<img src='https://github.com/yunjcai/Data-Science-A-Z/blob/master/Data%20Preparation/UDS14.JPG?raw=true' width='400'><br>\n",
    "**STEP 7:** 点击 \"Start\" 开始将 Data 导入 SQL Server.\n",
    "<img src='https://github.com/yunjcai/Data-Science-A-Z/blob/master/Data%20Preparation/UDS10.JPG?raw=true' width='400'><br>\n",
    "**STEP 8:** 出现 error 的话，点击底部 link，再点击新页面上的 \"Excution Results\"。\n",
    "<img src='https://github.com/yunjcai/Data-Science-A-Z/blob/master/Data%20Preparation/UDS11.JPG?raw=true' width='400'><br>\n",
    "<img src='https://github.com/yunjcai/Data-Science-A-Z/blob/master/Data%20Preparation/UDS12.JPG?raw=true' width='400'><br>\n",
    "**STEP 9:** 任何上传 Data 失败后，需要删除上传失败的 Database。回到 STEP 7 重新上传。\n",
    "##### SQL 语句：\n",
    "<font color='blue'>DROP TABLE</font> TableName <font color='green'># Delete Entire table</font><br>\n",
    "或者<br>\n",
    "<font color='blue'>TRUNCATE TABLE</font> TableName <font color='green'># Delete the data in the table, but keep the header</font><br>\n",
    "\n",
    "**STEP 10:** **完成该 block 的 Control Flow 后，必须将这个 block 给 Disable 掉。不然下次执行时，这个模块的数据会再次上传。** 执行 Control Flow 时，Control Flow 中所有模块都会同时上传数据。"
   ]
  },
  {
   "cell_type": "markdown",
   "metadata": {},
   "source": [
    "## 常见问题\n",
    "如果 Data 结构应 EXCEL 自动排版导致问题的话，Modify/fix the prepared data in Notepad++。\n",
    "### Text Qualifier\n",
    "\"Text Qualifier\": 让 SSIS 将 \"Text Qualifier\" 设定的符号(如 \")中，囊括的任何内容，视作一个整体(1个 cell)。 \"Text Qualifier\" 允许我们用设定的符号来分割内容。<br>\n",
    "\n",
    "比如, \"I am ok, how are you\". 如果 \"Text Qualifier\" 设置为空的话。将会产生两个 cell: \"I am ok\" 和 \"how are you\"。如果设置了 \"Text Qualifier\": \" 。则整个 \"I am ok, how are you\" 会在同一个 cell 里。<br>\n",
    "<img src='https://github.com/yunjcai/Data-Science-A-Z/blob/master/Data%20Preparation/UDS6.JPG?raw=true' width='400'><br>\n",
    "### Data 信息缺失\n",
    "如果 Data 信息缺失，某些 Columns 没有数据，判断是否重要，并且反馈给相关部门。<br>\n",
    "\n",
    "### Data Truncation\n",
    "回到 \"Flat File Source\"，重复 STEP 4.4。增加相应 Truncation 行的 Output Column Width (如增加到5000)."
   ]
  },
  {
   "cell_type": "markdown",
   "metadata": {},
   "source": [
    "## Automating Error Handling in SSIS: Conditional Split\n",
    "\n",
    "<font color='blue'>通过使用 SSIS 中，\"Conditional Split\" block，设置对应过滤函数，来自动分流好/坏数据，并导入相应的 .txt 文件。</font>\n",
    "\n",
    "**STEP 1:** Delete/Truncate the created data (table) by using SQL commands in SQL Server<br>\n",
    "**STEP 2:** In SSIS, delete the connection line between \"Flat File Source\" and \"OLE DB Destination\"<br>\n",
    "**STEP 3:** In the \"SSIS Toolbox / Common / Conditional Split\". Use \"Conditional Split\" for transform. Then connect \"Flat File Source\" and \"Conditional Split\" blocks<br>\n",
    "**STEP 4:** Set up \"Conditional Split\" block. (1) Give \"Output Name\"; (2) Drag Functions from \"String Functions\" to \"Condition\"; (3) Use \"Columns\" to complete dragged function in the \"Condition\"; (4) Give the Default output name.<br>\n",
    "\n",
    "**注：通过在 Condition 里设置含有 Columns 变量的 Function，来区分 Data 是否合格。将不合格的数据分流至 \"Output Name\", 合格数据分流至 \"Default output name\"。**<br>\n",
    "<img src='https://github.com/yunjcai/Data-Science-A-Z/blob/master/Data%20Preparation/aehs1.JPG?raw=true' width='400'/>\n",
    "<img src='https://github.com/yunjcai/Data-Science-A-Z/blob/master/Data%20Preparation/aehs2.JPG?raw=true' width='400'/><br>\n",
    "\n",
    "**STEP 5:** Set up \"Flat File Destination\" to store 不合格数据。(1) 当与 \"Conditional Split\" block 连线时，\"Input Output Selection\" window 自动弹出，选择对应的 Output。(2) 随后双击，在 \"Flat File Connection Manager\" 选择 \"New...\",选择 \"Delimiter\", 在弹出的新窗口，点击 \"Browse...\"。(3) 建议在 \"Analysis\" Folder 里新建文件夹和 .txt 文件 \"Automatically Excluded Results/YYYYMMDD_ProjectName_xxxRecords.txt\" 来储存分流后的数据。并选择该新建的 .txt 文件。(4) 设置 \"Text qualifier\" 为 \"。(5) Check the box \"Column names in the first data row\"<br>。\n",
    "<img src='https://github.com/yunjcai/Data-Science-A-Z/blob/master/Data%20Preparation/aehs3.JPG?raw=true' width='400'/>\n",
    "<img src='https://github.com/yunjcai/Data-Science-A-Z/blob/master/Data%20Preparation/aehs4.JPG?raw=true' width='400'/>\n",
    "<img src='https://github.com/yunjcai/Data-Science-A-Z/blob/master/Data%20Preparation/aehs5.JPG?raw=true' width='400'/>\n",
    "<img src='https://github.com/yunjcai/Data-Science-A-Z/blob/master/Data%20Preparation/aehs6.JPG?raw=true' width='400'/>\n",
    "<br>\n",
    "\n",
    "**STEP 6:** 回到 Use SSIS to Upload Data 章节的 STEP 5，用 Notepad++ 来查看，对比新生成的 YYYYMMDD_ProjectName_xxxRecords.txt<br>\n",
    "**STEP 7:** 可以设置多个 Conditional Split，通过多个过滤函数来分流不同的数据。<br>\n",
    "<img src='https://github.com/yunjcai/Data-Science-A-Z/blob/master/Data%20Preparation/aehs7.JPG?raw=true' width='500'/>"
   ]
  },
  {
   "cell_type": "markdown",
   "metadata": {},
   "source": [
    "## Finding Anomalies in SQL\n",
    "Open SQL Server and find the uploaded table in the correct DataBase. To add a filter to check where are the anomalies.<br>\n",
    "<img src='https://github.com/yunjcai/Data-Science-A-Z/blob/master/Data%20Preparation/FAS1.JPG?raw=true' width='600'><br>"
   ]
  },
  {
   "cell_type": "code",
   "execution_count": null,
   "metadata": {},
   "outputs": [],
   "source": [
    "% sql\n",
    "SELECT *\n",
    "FROM TableName\n",
    "WHERE [last_column] NOT LIKE ''\n",
    "OR [the_one_before_last_column] NOT LIKE '%.%'\n",
    "\n",
    "# SELECT *\n",
    "# FROM [DSTRAINING].[dho].[RAW_FakeNames_20150805]\n",
    "# WHERE [Column 46] NOT LIKE ''\n",
    "# OR [Longitude] NOT LIKE '%.%'"
   ]
  },
  {
   "cell_type": "markdown",
   "metadata": {},
   "source": [
    "Only 2 types of rows will be output: (1) not empty in Column 46 (2) no period in the Longitude column.<br>\n",
    "Since the source corruption always shifts the row to right or left. So this way helps to check the issue."
   ]
  },
  {
   "cell_type": "code",
   "execution_count": null,
   "metadata": {},
   "outputs": [],
   "source": []
  }
 ],
 "metadata": {
  "kernelspec": {
   "display_name": "Python 3",
   "language": "python",
   "name": "python3"
  },
  "language_info": {
   "codemirror_mode": {
    "name": "ipython",
    "version": 3
   },
   "file_extension": ".py",
   "mimetype": "text/x-python",
   "name": "python",
   "nbconvert_exporter": "python",
   "pygments_lexer": "ipython3",
   "version": "3.7.3"
  },
  "toc": {
   "base_numbering": 1,
   "nav_menu": {},
   "number_sections": false,
   "sideBar": true,
   "skip_h1_title": false,
   "title_cell": "Table of Contents",
   "title_sidebar": "Contents",
   "toc_cell": false,
   "toc_position": {},
   "toc_section_display": true,
   "toc_window_display": true
  },
  "varInspector": {
   "cols": {
    "lenName": 16,
    "lenType": 16,
    "lenVar": 40
   },
   "kernels_config": {
    "python": {
     "delete_cmd_postfix": "",
     "delete_cmd_prefix": "del ",
     "library": "var_list.py",
     "varRefreshCmd": "print(var_dic_list())"
    },
    "r": {
     "delete_cmd_postfix": ") ",
     "delete_cmd_prefix": "rm(",
     "library": "var_list.r",
     "varRefreshCmd": "cat(var_dic_list()) "
    }
   },
   "types_to_exclude": [
    "module",
    "function",
    "builtin_function_or_method",
    "instance",
    "_Feature"
   ],
   "window_display": false
  }
 },
 "nbformat": 4,
 "nbformat_minor": 2
}
